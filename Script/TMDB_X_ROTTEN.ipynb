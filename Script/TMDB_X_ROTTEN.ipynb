{
  "cells": [
    {
      "cell_type": "code",
      "execution_count": 1,
      "metadata": {
        "colab": {
          "base_uri": "https://localhost:8080/"
        },
        "id": "u28DJdy0P-Dq",
        "outputId": "5e6d12a4-7479-4b88-9731-a70bf8630400"
      },
      "outputs": [
        {
          "name": "stdout",
          "output_type": "stream",
          "text": [
            "Mounted at /content/gdrive\n"
          ]
        }
      ],
      "source": [
        "from google.colab import drive\n",
        "drive.mount('/content/gdrive')"
      ]
    },
    {
      "cell_type": "code",
      "execution_count": null,
      "metadata": {
        "colab": {
          "base_uri": "https://localhost:8080/",
          "height": 97
        },
        "id": "mOKNwWN2QSMu",
        "outputId": "1a5d93d0-dc95-4f75-8947-f5a9e327bc4a"
      },
      "outputs": [],
      "source": [
        "from google.colab import files\n",
        "\n",
        "files.upload()"
      ]
    },
    {
      "cell_type": "code",
      "execution_count": null,
      "metadata": {
        "colab": {
          "base_uri": "https://localhost:8080/"
        },
        "id": "2ACmE3pvQibw",
        "outputId": "87fdc241-49e7-41c8-a9e3-380db3265033"
      },
      "outputs": [],
      "source": [
        "!ls -lha kaggle.json\n"
      ]
    },
    {
      "cell_type": "code",
      "execution_count": 4,
      "metadata": {
        "id": "03pHl0J8QoFg"
      },
      "outputs": [],
      "source": [
        "!pip install -q kaggle"
      ]
    },
    {
      "cell_type": "code",
      "execution_count": 5,
      "metadata": {
        "id": "dqQ7yrzPQqcA"
      },
      "outputs": [],
      "source": [
        "!mkdir -p ~/.kaggle\n",
        "!cp kaggle.json ~/.kaggle/\n",
        "!chmod 600 /root/.kaggle/kaggle.json"
      ]
    },
    {
      "cell_type": "code",
      "execution_count": 10,
      "metadata": {
        "colab": {
          "base_uri": "https://localhost:8080/"
        },
        "id": "7uMI86p6Q4Dw",
        "outputId": "f49da768-7a2e-44bf-831f-75f97025fde1"
      },
      "outputs": [
        {
          "name": "stdout",
          "output_type": "stream",
          "text": [
            "Downloading millions-of-movies.zip to /content\n",
            " 96% 158M/164M [00:02<00:00, 83.2MB/s]\n",
            "100% 164M/164M [00:02<00:00, 66.5MB/s]\n"
          ]
        }
      ],
      "source": [
        "!kaggle datasets download -d akshaypawar7/millions-of-movies"
      ]
    },
    {
      "cell_type": "code",
      "execution_count": 4,
      "metadata": {
        "id": "X2zJOswgQ9yQ"
      },
      "outputs": [],
      "source": [
        "import pandas as pd \n",
        "import datetime\n",
        "import regex as re\n",
        "import concurrent.futures\n",
        "import requests\n",
        "import math\n",
        "import zipfile"
      ]
    },
    {
      "cell_type": "code",
      "execution_count": null,
      "metadata": {
        "id": "kj8emVJ7Wmpw"
      },
      "outputs": [],
      "source": [
        "file_path = \"millions-of-movies.zip\"\n",
        "zip_file = zipfile.ZipFile(file_path, 'r')\n",
        "zip_file.extractall()\n",
        "zip_file.close()\n"
      ]
    },
    {
      "cell_type": "code",
      "execution_count": 5,
      "metadata": {
        "id": "hJBZqOWMXXWv"
      },
      "outputs": [],
      "source": [
        "movie_df = pd.read_csv('movies.csv')"
      ]
    },
    {
      "cell_type": "code",
      "execution_count": 6,
      "metadata": {
        "id": "Gniwzuo2XcvA"
      },
      "outputs": [],
      "source": [
        "movie_df.drop(['id','keywords','poster_path','backdrop_path','recommendations'],axis =1 ,inplace=True)"
      ]
    },
    {
      "cell_type": "code",
      "execution_count": 7,
      "metadata": {
        "id": "Alx9rHipXs3B"
      },
      "outputs": [],
      "source": [
        "movie_df['release_date'] =pd.to_datetime(movie_df['release_date'])\n",
        "today = pd.to_datetime(datetime.date.today())\n",
        "filtered_movie_df = movie_df.query('release_date >= 2018 and release_date <= @today and original_language.isin([\"en\",\"zh\"]) and status == \"Released\" and genres.isna() == False').drop_duplicates(['title'])"
      ]
    },
    {
      "cell_type": "code",
      "execution_count": 8,
      "metadata": {
        "id": "knizjCU2Xt2R"
      },
      "outputs": [],
      "source": [
        "filtered_movie_df['title_rename'] = filtered_movie_df['title'].astype(str).apply(lambda title: re.sub(r'[^A-Za-z0-9 ]+', '', title).replace(' ','_').lower())\n",
        "filtered_movie_df.reset_index(drop=True, inplace=True)"
      ]
    },
    {
      "cell_type": "code",
      "execution_count": 14,
      "metadata": {
        "id": "Mzvw-YFiYLcO"
      },
      "outputs": [
        {
          "name": "stderr",
          "output_type": "stream",
          "text": [
            "C:\\Users\\USER\\AppData\\Local\\Temp\\ipykernel_8608\\1548681898.py:25: SettingWithCopyWarning: \n",
            "A value is trying to be set on a copy of a slice from a DataFrame.\n",
            "Try using .loc[row_indexer,col_indexer] = value instead\n",
            "\n",
            "See the caveats in the documentation: https://pandas.pydata.org/pandas-docs/stable/user_guide/indexing.html#returning-a-view-versus-a-copy\n",
            "  batch_df['movie_name'] = name\n",
            "C:\\Users\\USER\\AppData\\Local\\Temp\\ipykernel_8608\\1548681898.py:26: SettingWithCopyWarning: \n",
            "A value is trying to be set on a copy of a slice from a DataFrame.\n",
            "Try using .loc[row_indexer,col_indexer] = value instead\n",
            "\n",
            "See the caveats in the documentation: https://pandas.pydata.org/pandas-docs/stable/user_guide/indexing.html#returning-a-view-versus-a-copy\n",
            "  batch_df['tomatometer'] = tomatometer_scores\n",
            "C:\\Users\\USER\\AppData\\Local\\Temp\\ipykernel_8608\\1548681898.py:27: SettingWithCopyWarning: \n",
            "A value is trying to be set on a copy of a slice from a DataFrame.\n",
            "Try using .loc[row_indexer,col_indexer] = value instead\n",
            "\n",
            "See the caveats in the documentation: https://pandas.pydata.org/pandas-docs/stable/user_guide/indexing.html#returning-a-view-versus-a-copy\n",
            "  batch_df['audience_score'] = audience_scores\n",
            "C:\\Users\\USER\\AppData\\Local\\Temp\\ipykernel_8608\\1548681898.py:28: SettingWithCopyWarning: \n",
            "A value is trying to be set on a copy of a slice from a DataFrame.\n",
            "Try using .loc[row_indexer,col_indexer] = value instead\n",
            "\n",
            "See the caveats in the documentation: https://pandas.pydata.org/pandas-docs/stable/user_guide/indexing.html#returning-a-view-versus-a-copy\n",
            "  batch_df['weighted_score'] = weighted_score\n",
            "C:\\Users\\USER\\AppData\\Local\\Temp\\ipykernel_8608\\1548681898.py:29: SettingWithCopyWarning: \n",
            "A value is trying to be set on a copy of a slice from a DataFrame.\n",
            "Try using .loc[row_indexer,col_indexer] = value instead\n",
            "\n",
            "See the caveats in the documentation: https://pandas.pydata.org/pandas-docs/stable/user_guide/indexing.html#returning-a-view-versus-a-copy\n",
            "  batch_df['rotten_tomato_genres'] = rotten_tomato_genres\n",
            "C:\\Users\\USER\\AppData\\Local\\Temp\\ipykernel_8608\\1548681898.py:30: SettingWithCopyWarning: \n",
            "A value is trying to be set on a copy of a slice from a DataFrame.\n",
            "Try using .loc[row_indexer,col_indexer] = value instead\n",
            "\n",
            "See the caveats in the documentation: https://pandas.pydata.org/pandas-docs/stable/user_guide/indexing.html#returning-a-view-versus-a-copy\n",
            "  batch_df['year'] = year\n"
          ]
        }
      ],
      "source": [
        "session = requests.Session()\n",
        "\n",
        "def fetch_scores(title):\n",
        "    try:\n",
        "        url = f'https://rotten-tomatoes-api.ue.r.appspot.com/movie/{title}'\n",
        "        response = session.get(url)\n",
        "        response.raise_for_status()\n",
        "        js = response.json()\n",
        "        return js['name'],js['tomatometer'], js['audience_score'],js['weighted_score'],js['genres'],js['year']\n",
        "    except (KeyError, requests.HTTPError, ValueError):\n",
        "        return None, None, None, None, None, None\n",
        "\n",
        "batch_size = 1000\n",
        "num_batches = math.ceil(len(filtered_movie_df) / batch_size)\n",
        "\n",
        "with concurrent.futures.ThreadPoolExecutor(max_workers=10) as executor:\n",
        "    for i in range(num_batches):\n",
        "        start_index = i * batch_size\n",
        "        end_index = (i + 1) * batch_size\n",
        "        batch_df = filtered_movie_df[start_index:end_index]\n",
        "\n",
        "        results = list(executor.map(fetch_scores, batch_df['title_rename']))\n",
        "\n",
        "        name,tomatometer_scores, audience_scores,weighted_score,rotten_tomato_genres,year = zip(*results)\n",
        "        batch_df['movie_name'] = name\n",
        "        batch_df['tomatometer'] = tomatometer_scores\n",
        "        batch_df['audience_score'] = audience_scores\n",
        "        batch_df['weighted_score'] = weighted_score\n",
        "        batch_df['rotten_tomato_genres'] = rotten_tomato_genres\n",
        "        batch_df['year'] = year\n",
        "\n",
        "        batch_df.to_csv(f'batch_{i+1}.csv', index=False)"
      ]
    },
    {
      "cell_type": "code",
      "execution_count": 29,
      "metadata": {
        "id": "VYwygeRpcxoC"
      },
      "outputs": [],
      "source": [
        "batch_dfs = {i: pd.read_csv(f'batch_{i}.csv') for i in range(1, num_batches + 1)}\n",
        "tmdb_rotten_df = pd.concat([batch_dfs[i] for i in range(1, num_batches + 1)])\n"
      ]
    },
    {
      "cell_type": "code",
      "execution_count": 33,
      "metadata": {
        "id": "PbrmLlfzdEw6"
      },
      "outputs": [],
      "source": [
        "tmdb_rotten_df.drop(['genres','title_rename','title','year'],axis=1,inplace=True)\n",
        "tmdb_rotten_df.query('tomatometer.isna() == False & audience_score.isna() == False & rotten_tomato_genres.isna() == False', inplace=True)"
      ]
    },
    {
      "cell_type": "code",
      "execution_count": null,
      "metadata": {
        "id": "IdPHzbgVdKkL"
      },
      "outputs": [],
      "source": [
        "tmdb_rotten_df.to_csv('movies_with_rotten_tomatoes_v1.csv', index=False)"
      ]
    }
  ],
  "metadata": {
    "colab": {
      "provenance": []
    },
    "kernelspec": {
      "display_name": "Python 3",
      "name": "python3"
    },
    "language_info": {
      "codemirror_mode": {
        "name": "ipython",
        "version": 3
      },
      "file_extension": ".py",
      "mimetype": "text/x-python",
      "name": "python",
      "nbconvert_exporter": "python",
      "pygments_lexer": "ipython3",
      "version": "3.11.5"
    }
  },
  "nbformat": 4,
  "nbformat_minor": 0
}
